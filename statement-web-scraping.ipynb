{
  "cells": [
    {
      "cell_type": "markdown",
      "metadata": {
        "id": "view-in-github",
        "colab_type": "text"
      },
      "source": [
        "<a href=\"https://colab.research.google.com/github/batmech/Allwyn-06-02-25/blob/main/statement-web-scraping.ipynb\" target=\"_parent\"><img src=\"https://colab.research.google.com/assets/colab-badge.svg\" alt=\"Open In Colab\"/></a>"
      ]
    },
    {
      "cell_type": "code",
      "source": [
        "!pip install beautifulsoup4"
      ],
      "metadata": {
        "colab": {
          "base_uri": "https://localhost:8080/"
        },
        "id": "9nI9DFUsr2x9",
        "outputId": "5fea70c9-fe9b-438d-9b3f-589c21698818"
      },
      "execution_count": null,
      "outputs": [
        {
          "output_type": "stream",
          "name": "stdout",
          "text": [
            "Requirement already satisfied: beautifulsoup4 in /usr/local/lib/python3.11/dist-packages (4.12.3)\n",
            "Requirement already satisfied: soupsieve>1.2 in /usr/local/lib/python3.11/dist-packages (from beautifulsoup4) (2.6)\n"
          ]
        }
      ]
    },
    {
      "cell_type": "code",
      "source": [
        "!pip install transformers"
      ],
      "metadata": {
        "colab": {
          "base_uri": "https://localhost:8080/"
        },
        "id": "P6g0YWWd3u_P",
        "outputId": "a69f334e-19c6-4329-bf5a-90e7288b81e5"
      },
      "execution_count": null,
      "outputs": [
        {
          "output_type": "stream",
          "name": "stdout",
          "text": [
            "Requirement already satisfied: transformers in /usr/local/lib/python3.11/dist-packages (4.47.1)\n",
            "Requirement already satisfied: filelock in /usr/local/lib/python3.11/dist-packages (from transformers) (3.17.0)\n",
            "Requirement already satisfied: huggingface-hub<1.0,>=0.24.0 in /usr/local/lib/python3.11/dist-packages (from transformers) (0.27.1)\n",
            "Requirement already satisfied: numpy>=1.17 in /usr/local/lib/python3.11/dist-packages (from transformers) (1.26.4)\n",
            "Requirement already satisfied: packaging>=20.0 in /usr/local/lib/python3.11/dist-packages (from transformers) (24.2)\n",
            "Requirement already satisfied: pyyaml>=5.1 in /usr/local/lib/python3.11/dist-packages (from transformers) (6.0.2)\n",
            "Requirement already satisfied: regex!=2019.12.17 in /usr/local/lib/python3.11/dist-packages (from transformers) (2024.11.6)\n",
            "Requirement already satisfied: requests in /usr/local/lib/python3.11/dist-packages (from transformers) (2.32.3)\n",
            "Requirement already satisfied: tokenizers<0.22,>=0.21 in /usr/local/lib/python3.11/dist-packages (from transformers) (0.21.0)\n",
            "Requirement already satisfied: safetensors>=0.4.1 in /usr/local/lib/python3.11/dist-packages (from transformers) (0.5.2)\n",
            "Requirement already satisfied: tqdm>=4.27 in /usr/local/lib/python3.11/dist-packages (from transformers) (4.67.1)\n",
            "Requirement already satisfied: fsspec>=2023.5.0 in /usr/local/lib/python3.11/dist-packages (from huggingface-hub<1.0,>=0.24.0->transformers) (2024.10.0)\n",
            "Requirement already satisfied: typing-extensions>=3.7.4.3 in /usr/local/lib/python3.11/dist-packages (from huggingface-hub<1.0,>=0.24.0->transformers) (4.12.2)\n",
            "Requirement already satisfied: charset-normalizer<4,>=2 in /usr/local/lib/python3.11/dist-packages (from requests->transformers) (3.4.1)\n",
            "Requirement already satisfied: idna<4,>=2.5 in /usr/local/lib/python3.11/dist-packages (from requests->transformers) (3.10)\n",
            "Requirement already satisfied: urllib3<3,>=1.21.1 in /usr/local/lib/python3.11/dist-packages (from requests->transformers) (2.3.0)\n",
            "Requirement already satisfied: certifi>=2017.4.17 in /usr/local/lib/python3.11/dist-packages (from requests->transformers) (2024.12.14)\n"
          ]
        }
      ]
    },
    {
      "cell_type": "code",
      "source": [
        "import requests\n",
        "from bs4 import BeautifulSoup\n",
        "url = 'https://en.wikipedia.org/wiki/UST_(company)'\n",
        "\n",
        "def extract(url):\n",
        "  try:\n",
        "    response = requests.get(url)\n",
        "    soup = BeautifulSoup(response.content, 'html.parser')\n",
        "    divs = soup.find('div', {'id': 'mw-content-text'})\n",
        "    content = divs.find_all(['p'])\n",
        "    text = ' '.join([para.get_text() for para in content])\n",
        "\n",
        "    print(text)\n",
        "\n",
        "  except requests.exceptions.RequestException as e:\n",
        "    print(f\"Error: {e}\")\n",
        "    print(f\"Failed to retrieve the webpage. Status code: {response.status_code}\")\n",
        "\n",
        "extract(url)"
      ],
      "metadata": {
        "colab": {
          "base_uri": "https://localhost:8080/"
        },
        "id": "vsJ6N4ssJYnE",
        "outputId": "89e47b7d-bc99-41ae-f5af-51829a7cb512"
      },
      "execution_count": 2,
      "outputs": [
        {
          "output_type": "stream",
          "name": "stdout",
          "text": [
            "\n",
            " UST, formerly known as UST Global, is a provider of digital technology and transformation, information technology and services, headquartered in Aliso Viejo, California, United States.[7] Stephen Ross founded UST in 1998 in Laguna Hills.[8] The company has offices in the Americas, EMEA, APAC, and India.[9][10][11]\n",
            " In June 2018, Temasek, Singapore’s sovereign wealth fund, invested US$250 million in UST, giving UST a US$1 billion-plus valuation.[12]\n",
            " UST offers services in many areas including: \n",
            " digital transformation,[13] cybersecurity, data analytics, data engineering, technology and digital consulting, supply chain management, cloud infrastructure, developer productivity, quality engineering, IT talent sourcing, innovation as a service, legacy modernization, human-centered design, AMS, semiconductor engineering, IOT engineering, intelligent process automation, artificial intelligence, machine learning, and technology strategy, intelligent automation and BPaaS.[14] Examples of specific services include:\n",
            " In 2020, UST released UST CloudDesk and UST MultiCloud Manager.[15] UST CloudDesk enables enterprises to move workloads between different cloud platforms. UST MultiCloud Manager, an IT-as-a-service platform, allows users to have a zero-touch, single-pane view of their entire IT environment.[16]\n",
            " UST offers development and operational services such as data management, analysis, and automation for DevSecOps, and digital and cloud transformation.[17] This includes PACE, a product used for implementing and optimizing cloud-native DevOps.[18]\n",
            " In July 2020, UST invested in Smart Software Testing Solutions (SSTS) Inc. to incorporate intelligent testing and digital validation for its Software Validation and Test Automation.[19] SSTS's platforms allow testers to perform manual and automation testing on more than 5000 device-browser combinations.[19]\n",
            " In July 2020, UST's company CyberProof became an official member of the Microsoft Intelligent Security Association.[20] CyberProof monitors security alerts and suspicious events collected from internal and external customer data sources and detects threats in cloud and on-premises infrastructure threats.[21]\n",
            " UST invests and acquires companies.[22]\n",
            " UST is based in Orange County, California and has offices in more than 25 countries. It is based in the following regions: the Americas, EMEA, APAC, and India.[10][11]\n",
            " UST has started its expansion plans in India in the capital city of Kerala, Thiruvananthapuram, with the construction of its own campus, near Technopark.[49]  The campus is spread over 36 acres (150,000 m2).  The campus will also feature a 12-acre (49,000 m2) waterbody channeling through the various blocks of the campus.\n",
            " CyberProof is a fully owned subsidiary of UST and founded in 2017 in Tel Aviv, Israel.[50]\n",
            " The company is a security services company.\n",
            " In January 2018, UST acquired BISEC, a cybersecurity company, for 5.8 million Dollars and integrated the technology into CyberProof.[51]\n",
            " CyberProof is headquartered in Aliso Viejo, California, United States and has regional offices in London, United Kingdom; Trivandrum; Singapore and Barcelona, Spain. As of 2021, the company has approximately 500 employees worldwide. Although it has several offices, its operations have been primarily based in Tel Aviv, Israel, since its founding.\n",
            " Tony Velleca is the chief executive officer of CyberProof and is a chief information security officer at UST. Yuval Wollman is President of CyberProof and is responsible for the company's Israel-based Development & Operations.\n",
            " UST HealthProof is the healthcare technology division of UST. In 2023, UST HealthProof acquired healthcare technology company Advantasure.[52]\n",
            " In early 2008, California arbitrators ruled that US Technology Resources, LLC must pay Stephen J. Ross US $7.5 million for his founding interest in the company. The company had disputed the extent of Ross's actual contributions. The arbitration award was then confirmed by the Los Angeles Superior Court and judgment entered in Ross' favor.[53]\n",
            "\n"
          ]
        }
      ]
    },
    {
      "cell_type": "code",
      "source": [
        "from transformers import pipeline\n",
        "\n",
        "summarizer = pipeline(\"summarization\", model=\"facebook/bart-large-cnn\", device= 0)\n",
        "\n",
        "def splitingText(text, max_length=1024):\n",
        "  tokenizer = summarizer.tokenizer\n",
        "  inputs = tokenizer(text, return_tensors=\"pt\", truncation=False)\n",
        "  num_tokens = inputs[\"input_ids\"].shape[1]\n",
        "\n",
        "  if num_tokens <= max_length:\n",
        "      return [text]\n",
        "\n",
        "  words = text.split(\" \")\n",
        "  chunk_size = max_length // 2\n",
        "  chunks = [\" \".join(words[i:i + chunk_size]) for i in range(0, len(words), chunk_size)]\n",
        "\n",
        "  return chunks\n",
        "\n",
        "def summarize_text(text):\n",
        "  parts = splitingText(text)\n",
        "  partial_sums = []\n",
        "\n",
        "  for item in parts:\n",
        "    summary = summarizer(item, max_length=300, min_length=250, do_sample=False)\n",
        "    partial_sums.append(summary[0]['summary_text'])\n",
        "\n",
        "\n",
        "  summary = summarizer(\" \".join(partial_sums), max_length=150, min_length=100, do_sample=False)\n",
        "  return summary[0]['summary_text']\n",
        "\n",
        "if text != 'Failed to extract text from webpage!' or text != 'Failed to retrieve webpage!':\n",
        "  summary = summarize_text(text)\n",
        "\n",
        "summary\n"
      ],
      "metadata": {
        "colab": {
          "base_uri": "https://localhost:8080/",
          "height": 104
        },
        "id": "2r2yxsC4438o",
        "outputId": "a42fb6bd-7e75-4cc4-bd11-009e7d7ad1ee"
      },
      "execution_count": 63,
      "outputs": [
        {
          "output_type": "stream",
          "name": "stderr",
          "text": [
            "Device set to use cuda:0\n"
          ]
        },
        {
          "output_type": "execute_result",
          "data": {
            "text/plain": [
              "'Stephen Ross founded UST in 1998 in Laguna Hills, California. In June 2018, Temasek, Singapore’s sovereign wealth fund, invested US$250 million in UST, giving UST a US$1 billion-plus valuation. UST offers services in many areas including: digital transformation, data analytics, data engineering, technology and digital consulting, supply chain management, cloud infrastructure, developer productivity, quality engineering, IT talent sourcing, innovation as a service. As of 2021, the company has approximately 500 employees worldwide.'"
            ],
            "application/vnd.google.colaboratory.intrinsic+json": {
              "type": "string"
            }
          },
          "metadata": {},
          "execution_count": 63
        }
      ]
    },
    {
      "cell_type": "code",
      "source": [
        "len(summary.split(' '))"
      ],
      "metadata": {
        "colab": {
          "base_uri": "https://localhost:8080/"
        },
        "id": "ecAaR2KaGXle",
        "outputId": "e2758792-d6ba-4fc4-9b19-51be73c9707c"
      },
      "execution_count": null,
      "outputs": [
        {
          "output_type": "execute_result",
          "data": {
            "text/plain": [
              "82"
            ]
          },
          "metadata": {},
          "execution_count": 15
        }
      ]
    }
  ],
  "metadata": {
    "colab": {
      "name": "Welcome To Colab",
      "provenance": [],
      "gpuType": "T4",
      "include_colab_link": true
    },
    "kernelspec": {
      "display_name": "Python 3",
      "name": "python3"
    },
    "accelerator": "GPU"
  },
  "nbformat": 4,
  "nbformat_minor": 0
}